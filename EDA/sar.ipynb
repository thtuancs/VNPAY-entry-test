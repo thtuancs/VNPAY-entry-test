{
 "cells": [
  {
   "cell_type": "code",
   "execution_count": null,
   "metadata": {},
   "outputs": [],
   "source": [
    "from spark_evaluation import SparkRankingEvaluation"
   ]
  },
  {
   "cell_type": "code",
   "execution_count": null,
   "metadata": {},
   "outputs": [],
   "source": [
    "from pysarplus import SARPlus\n",
    "import pyspark\n",
    "from pyspark.sql import SparkSession\n",
    "from pyspark.sql import functions\n",
    "from pyspark.sql.functions import col, to_date, to_timestamp\n",
    "from pyspark.sql.types import *\n",
    "\n",
    "MAX_MEMORY = '15G'\n",
    "# Initialize a spark session.\n",
    "conf = pyspark.SparkConf().setMaster(\"local[*]\") \\\n",
    "        .set('spark.executor.heartbeatInterval', 10000) \\\n",
    "        .set('spark.network.timeout', 10000) \\\n",
    "        .set(\"spark.core.connection.ack.wait.timeout\", \"3600\") \\\n",
    "        .set(\"spark.executor.memory\", MAX_MEMORY) \\\n",
    "        .set(\"spark.driver.memory\", MAX_MEMORY) \\\n",
    "        .set(\"spark.sql.legacy.timeParserPolicy\", \"LEGACY\")\n",
    "        \n",
    "def init_spark():\n",
    "    spark = SparkSession \\\n",
    "        .builder \\\n",
    "        .appName(\"transaction_data\") \\\n",
    "        .config(conf=conf) \\\n",
    "        .getOrCreate()\n",
    "    return spark\n",
    "\n",
    "spark = init_spark()\n"
   ]
  },
  {
   "cell_type": "code",
   "execution_count": null,
   "metadata": {},
   "outputs": [],
   "source": [
    "# spark dataframe with user/item/rating/optional timestamp tuples\n",
    "df = spark.read.csv('./clean_data.csv', header=True)\n",
    "df = df.select('UserId', 'ItemCode', 'NumberOfItemsPurchased', 'TransactionTime')\\\n",
    "    .withColumn('timestamp', to_timestamp(df['TransactionTime'], 'E MMM dd HH:mm:ss zzz yyyy').cast('long'))\\\n",
    "    .withColumnRenamed(\"UserId\", \"userID\") \\\n",
    "    .withColumnRenamed(\"ItemCode\", \"itemID\") \\\n",
    "    .withColumnRenamed(\"NumberOfItemsPurchased\", \"rating\")\\\n",
    "    .drop(\"TransactionTime\")\\\n",
    "    .sort(\"timestamp\")\n",
    "    \n",
    "\n",
    "split_ratio = 0.7\n",
    "\n",
    "split_index = int(df.count() * split_ratio)\n",
    "\n",
    "train_df = df.limit(split_index)\n",
    "test_df = df.subtract(train_df)\n",
    "\n",
    "print(\"\"\"\n",
    "Train:\n",
    "Total Ratings: {train_total}\n",
    "Unique Users: {train_users}\n",
    "Unique Items: {train_items}\n",
    "\n",
    "Test:\n",
    "Total Ratings: {test_total}\n",
    "Unique Users: {test_users}\n",
    "Unique Items: {test_items}\n",
    "\"\"\".format(\n",
    "    train_total=train_df.count(),\n",
    "    train_users=train_df.select('userID').distinct().count(),\n",
    "    train_items=train_df.select('itemID').distinct().count(),\n",
    "    test_total=test_df.count(),\n",
    "    test_users=test_df.select('userID').distinct().count(),\n",
    "    test_items=test_df.select('itemID').distinct().count(),\n",
    "))"
   ]
  },
  {
   "cell_type": "code",
   "execution_count": null,
   "metadata": {},
   "outputs": [],
   "source": [
    "model = SARPlus(\n",
    "    spark,\n",
    "    col_user=\"userID\",\n",
    "    col_item=\"itemID\",\n",
    "    col_rating=\"rating\",\n",
    "    col_timestamp=\"timestamp\",\n",
    "    similarity_type=\"jaccard\",\n",
    "    cache_path=\"cache\",\n",
    ")\n",
    "model.fit(train_df)"
   ]
  },
  {
   "cell_type": "code",
   "execution_count": null,
   "metadata": {},
   "outputs": [],
   "source": [
    "k=10\n",
    "pred_df = model.recommend_k_items(test_df, top_k=k, remove_seen=False)"
   ]
  },
  {
   "cell_type": "code",
   "execution_count": null,
   "metadata": {},
   "outputs": [],
   "source": [
    "evaluation = SparkRankingEvaluation(rating_true=test_df, rating_pred=pred_df.withColumnRenamed('score', 'prediction'))"
   ]
  },
  {
   "cell_type": "code",
   "execution_count": null,
   "metadata": {},
   "outputs": [],
   "source": [
    "print(f\"map@{k}\\t\\t\", evaluation.map_at_k())\n",
    "print(f\"ndcg@{k}\\t\\t\", evaluation.ndcg_at_k())\n",
    "print(f\"precision@{k}\\t\", evaluation.precision_at_k())\n",
    "print(f\"recall@{k}\\t\", evaluation.recall_at_k())"
   ]
  }
 ],
 "metadata": {
  "kernelspec": {
   "display_name": "venv",
   "language": "python",
   "name": "python3"
  },
  "language_info": {
   "codemirror_mode": {
    "name": "ipython",
    "version": 3
   },
   "file_extension": ".py",
   "mimetype": "text/x-python",
   "name": "python",
   "nbconvert_exporter": "python",
   "pygments_lexer": "ipython3",
   "version": "3.12.1"
  }
 },
 "nbformat": 4,
 "nbformat_minor": 2
}
